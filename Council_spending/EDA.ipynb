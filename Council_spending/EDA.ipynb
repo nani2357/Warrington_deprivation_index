{
 "cells": [
  {
   "cell_type": "code",
   "execution_count": 1,
   "metadata": {},
   "outputs": [],
   "source": [
    "import pandas as pd\n",
    "import numpy as np\n",
    "import matplotlib.pyplot as plt\n",
    "import seaborn as sns\n"
   ]
  },
  {
   "cell_type": "code",
   "execution_count": 2,
   "metadata": {},
   "outputs": [
    {
     "data": {
      "text/html": [
       "<div>\n",
       "<style scoped>\n",
       "    .dataframe tbody tr th:only-of-type {\n",
       "        vertical-align: middle;\n",
       "    }\n",
       "\n",
       "    .dataframe tbody tr th {\n",
       "        vertical-align: top;\n",
       "    }\n",
       "\n",
       "    .dataframe thead th {\n",
       "        text-align: right;\n",
       "    }\n",
       "</style>\n",
       "<table border=\"1\" class=\"dataframe\">\n",
       "  <thead>\n",
       "    <tr style=\"text-align: right;\">\n",
       "      <th></th>\n",
       "      <th>ORGANISATIONAL UNIT</th>\n",
       "      <th>EXPENDITURE CATEGORY</th>\n",
       "      <th>DATE (POSTING DATE)</th>\n",
       "      <th>TRANSACTION NUMBER</th>\n",
       "      <th>AMOUNT</th>\n",
       "      <th>SUPPLIER NAME</th>\n",
       "      <th>Year</th>\n",
       "      <th>Month</th>\n",
       "    </tr>\n",
       "  </thead>\n",
       "  <tbody>\n",
       "    <tr>\n",
       "      <th>0</th>\n",
       "      <td>Care Purchase East Team</td>\n",
       "      <td>Supported Accommodation</td>\n",
       "      <td>17/01/2020</td>\n",
       "      <td>1.900509e+09</td>\n",
       "      <td>4466.0</td>\n",
       "      <td>Macintyre Care</td>\n",
       "      <td>2020</td>\n",
       "      <td>January</td>\n",
       "    </tr>\n",
       "    <tr>\n",
       "      <th>1</th>\n",
       "      <td>Care Purchase South Team</td>\n",
       "      <td>CP Residential EMI</td>\n",
       "      <td>06/01/2020</td>\n",
       "      <td>1.900505e+09</td>\n",
       "      <td>2260.0</td>\n",
       "      <td>Heathfield Residental Home</td>\n",
       "      <td>2020</td>\n",
       "      <td>January</td>\n",
       "    </tr>\n",
       "    <tr>\n",
       "      <th>2</th>\n",
       "      <td>Care Purchase South Team</td>\n",
       "      <td>CP Residential EMI</td>\n",
       "      <td>06/01/2020</td>\n",
       "      <td>1.900504e+09</td>\n",
       "      <td>2260.0</td>\n",
       "      <td>HC-One Oval Ltd Birch Court</td>\n",
       "      <td>2020</td>\n",
       "      <td>January</td>\n",
       "    </tr>\n",
       "    <tr>\n",
       "      <th>3</th>\n",
       "      <td>Care Purchase Central Team</td>\n",
       "      <td>CP Residential EMI</td>\n",
       "      <td>06/01/2020</td>\n",
       "      <td>1.900504e+09</td>\n",
       "      <td>2260.0</td>\n",
       "      <td>HC-One Oval Ltd Birch Court</td>\n",
       "      <td>2020</td>\n",
       "      <td>January</td>\n",
       "    </tr>\n",
       "    <tr>\n",
       "      <th>4</th>\n",
       "      <td>Care Purchase East Team</td>\n",
       "      <td>CP Residential EMI</td>\n",
       "      <td>06/01/2020</td>\n",
       "      <td>1.900504e+09</td>\n",
       "      <td>2260.0</td>\n",
       "      <td>HC-One Oval Ltd Birch Court</td>\n",
       "      <td>2020</td>\n",
       "      <td>January</td>\n",
       "    </tr>\n",
       "  </tbody>\n",
       "</table>\n",
       "</div>"
      ],
      "text/plain": [
       "          ORGANISATIONAL UNIT     EXPENDITURE CATEGORY DATE (POSTING DATE)  \\\n",
       "0     Care Purchase East Team  Supported Accommodation          17/01/2020   \n",
       "1    Care Purchase South Team       CP Residential EMI          06/01/2020   \n",
       "2    Care Purchase South Team       CP Residential EMI          06/01/2020   \n",
       "3  Care Purchase Central Team       CP Residential EMI          06/01/2020   \n",
       "4     Care Purchase East Team       CP Residential EMI          06/01/2020   \n",
       "\n",
       "   TRANSACTION NUMBER  AMOUNT                SUPPLIER NAME  Year    Month  \n",
       "0        1.900509e+09  4466.0               Macintyre Care  2020  January  \n",
       "1        1.900505e+09  2260.0   Heathfield Residental Home  2020  January  \n",
       "2        1.900504e+09  2260.0  HC-One Oval Ltd Birch Court  2020  January  \n",
       "3        1.900504e+09  2260.0  HC-One Oval Ltd Birch Court  2020  January  \n",
       "4        1.900504e+09  2260.0  HC-One Oval Ltd Birch Court  2020  January  "
      ]
     },
     "execution_count": 2,
     "metadata": {},
     "output_type": "execute_result"
    }
   ],
   "source": [
    "df = pd.read_csv(r\"D:\\Warrington_council\\Warrington_deprivation_index\\Council_spending\\data\\all_data_sorted.csv\")\n",
    "\n",
    "df.head()"
   ]
  },
  {
   "cell_type": "code",
   "execution_count": 4,
   "metadata": {},
   "outputs": [
    {
     "data": {
      "text/plain": [
       "Index(['ORGANISATIONAL UNIT', 'EXPENDITURE CATEGORY', 'DATE (POSTING DATE)',\n",
       "       'TRANSACTION NUMBER', 'AMOUNT', 'SUPPLIER NAME', 'Year', 'Month'],\n",
       "      dtype='object')"
      ]
     },
     "execution_count": 4,
     "metadata": {},
     "output_type": "execute_result"
    }
   ],
   "source": [
    "df.columns"
   ]
  },
  {
   "cell_type": "code",
   "execution_count": null,
   "metadata": {},
   "outputs": [],
   "source": []
  }
 ],
 "metadata": {
  "kernelspec": {
   "display_name": "base",
   "language": "python",
   "name": "python3"
  },
  "language_info": {
   "codemirror_mode": {
    "name": "ipython",
    "version": 3
   },
   "file_extension": ".py",
   "mimetype": "text/x-python",
   "name": "python",
   "nbconvert_exporter": "python",
   "pygments_lexer": "ipython3",
   "version": "3.10.9"
  }
 },
 "nbformat": 4,
 "nbformat_minor": 2
}
